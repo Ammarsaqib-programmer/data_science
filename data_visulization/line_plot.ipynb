import matplotlib.pyplot as plt

x_axis = [1, 2, 3]
y_axis = [4, 5, 6]

plt.plot(x_axis, y_axis, color="blue")  
plt.xlabel("X-Axis")
plt.ylabel("Y-Axis")
plt.title("first plot")
plt.show()
