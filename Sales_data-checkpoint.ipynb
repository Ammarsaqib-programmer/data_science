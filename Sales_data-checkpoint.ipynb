{
 "cells": [
  {
   "cell_type": "code",
   "execution_count": 1,
   "id": "ff1595c8-443a-4966-9c70-b93cfc320c7c",
   "metadata": {},
   "outputs": [],
   "source": [
    "import pandas as pd"
   ]
  },
  {
   "cell_type": "code",
   "execution_count": 9,
   "id": "b2384c23-9de6-4af6-ae6c-fc2b6b1d047e",
   "metadata": {},
   "outputs": [],
   "source": [
    "file_path = r\"C:\\Users\\hp\\.ipynb_checkpoints\\Groceries_Sales_data.xlsx\"\n",
    "df = pd.read_excel(file_path)"
   ]
  },
  {
   "cell_type": "code",
   "execution_count": 11,
   "id": "96a3bfac-3213-4556-881a-8dc3f80b0ac9",
   "metadata": {},
   "outputs": [
    {
     "name": "stdout",
     "output_type": "stream",
     "text": [
      "Data Preview:\n",
      "        Date    Sales\n",
      "0 2018-02-01  21199.0\n",
      "1 2018-02-02  10634.0\n",
      "2 2018-02-03   7966.0\n",
      "3 2018-02-04   1353.0\n",
      "4 2018-02-05   9497.0\n"
     ]
    }
   ],
   "source": [
    "print(\"Data Preview:\")\n",
    "print(df.head())"
   ]
  },
  {
   "cell_type": "code",
   "execution_count": 13,
   "id": "c4324c9c-2290-483d-b7ea-6ec8d298e0f1",
   "metadata": {},
   "outputs": [
    {
     "name": "stdout",
     "output_type": "stream",
     "text": [
      "\n",
      "Missing Values in Each Column:\n",
      "Date     0\n",
      "Sales    0\n",
      "dtype: int64\n"
     ]
    }
   ],
   "source": [
    "print(\"\\nMissing Values in Each Column:\")\n",
    "print(df.isnull().sum())\n"
   ]
  },
  {
   "cell_type": "code",
   "execution_count": 17,
   "id": "a310d7f5-8019-4376-a28d-6e629cdb2903",
   "metadata": {},
   "outputs": [
    {
     "data": {
      "text/plain": [
       "20458.37248677249"
      ]
     },
     "execution_count": 17,
     "metadata": {},
     "output_type": "execute_result"
    }
   ],
   "source": [
    "df['Sales'].mean()"
   ]
  },
  {
   "cell_type": "code",
   "execution_count": 19,
   "id": "e6844321-9b18-4ee8-99cf-a5efd249df08",
   "metadata": {},
   "outputs": [
    {
     "data": {
      "text/plain": [
       "15400.849999999999"
      ]
     },
     "execution_count": 19,
     "metadata": {},
     "output_type": "execute_result"
    }
   ],
   "source": [
    "df['Sales'].median()"
   ]
  },
  {
   "cell_type": "code",
   "execution_count": 21,
   "id": "29f61934-eb5b-4fae-aa94-7f9b9b664da8",
   "metadata": {},
   "outputs": [
    {
     "data": {
      "text/plain": [
       "83179.2"
      ]
     },
     "execution_count": 21,
     "metadata": {},
     "output_type": "execute_result"
    }
   ],
   "source": [
    "df['Sales'].max()"
   ]
  },
  {
   "cell_type": "code",
   "execution_count": 23,
   "id": "2d2d5f0c-b376-4509-8a10-f701bd79b656",
   "metadata": {},
   "outputs": [
    {
     "data": {
      "text/plain": [
       "58.9"
      ]
     },
     "execution_count": 23,
     "metadata": {},
     "output_type": "execute_result"
    }
   ],
   "source": [
    "df['Sales'].min()"
   ]
  },
  {
   "cell_type": "code",
   "execution_count": 25,
   "id": "f7b91b54-1251-4892-bffe-1b4652802e30",
   "metadata": {},
   "outputs": [],
   "source": [
    "if 'Date' in df.columns:\n",
    "    df['Date'] = pd.to_datetime(df['Date'])"
   ]
  },
  {
   "cell_type": "code",
   "execution_count": 27,
   "id": "b2599dff-f994-40b9-a7e4-df33d9dab3aa",
   "metadata": {},
   "outputs": [
    {
     "name": "stdout",
     "output_type": "stream",
     "text": [
      "\n",
      "Basic Statistics:\n",
      "                      Date         Sales\n",
      "count                  756    756.000000\n",
      "mean   2019-02-13 12:00:00  20458.372487\n",
      "min    2018-02-01 00:00:00     58.900000\n",
      "25%    2018-08-08 18:00:00   8132.600000\n",
      "50%    2019-02-13 12:00:00  15400.850000\n",
      "75%    2019-08-21 06:00:00  28089.575000\n",
      "max    2020-02-26 00:00:00  83179.200000\n",
      "std                    NaN  16751.853892\n"
     ]
    }
   ],
   "source": [
    "print(\"\\nBasic Statistics:\")\n",
    "print(df.describe())"
   ]
  },
  {
   "cell_type": "code",
   "execution_count": 29,
   "id": "8bacf020-5f93-442b-a7fe-3eabca8845f7",
   "metadata": {},
   "outputs": [],
   "source": [
    "if 'Revenue' in df.columns:\n",
    "    total_revenue = df['Revenue'].sum()\n",
    "    print(f\"\\nTotal Revenue: ${total_revenue:,.2f}\")\n"
   ]
  },
  {
   "cell_type": "code",
   "execution_count": null,
   "id": "c58f2c4f-7ce3-4d22-aead-6d0eda8983fa",
   "metadata": {},
   "outputs": [],
   "source": []
  },
  {
   "cell_type": "code",
   "execution_count": null,
   "id": "b5df8d58-e03d-48e7-9f51-2f7b838d6460",
   "metadata": {},
   "outputs": [],
   "source": []
  },
  {
   "cell_type": "code",
   "execution_count": null,
   "id": "c4a76155-c3c8-423a-9968-bdccd4160389",
   "metadata": {},
   "outputs": [],
   "source": []
  },
  {
   "cell_type": "code",
   "execution_count": null,
   "id": "0bcf6f33-9ae9-4a3f-a2cd-522a421de6e8",
   "metadata": {},
   "outputs": [],
   "source": []
  },
  {
   "cell_type": "code",
   "execution_count": null,
   "id": "fd5ce057-eac4-47a3-bd24-8455c485abbe",
   "metadata": {},
   "outputs": [],
   "source": []
  },
  {
   "cell_type": "code",
   "execution_count": null,
   "id": "0fb1d807-9ae8-40e7-9da8-4c2dafcb9a12",
   "metadata": {},
   "outputs": [],
   "source": []
  }
 ],
 "metadata": {
  "kernelspec": {
   "display_name": "Python [conda env:base] *",
   "language": "python",
   "name": "conda-base-py"
  },
  "language_info": {
   "codemirror_mode": {
    "name": "ipython",
    "version": 3
   },
   "file_extension": ".py",
   "mimetype": "text/x-python",
   "name": "python",
   "nbconvert_exporter": "python",
   "pygments_lexer": "ipython3",
   "version": "3.12.7"
  }
 },
 "nbformat": 4,
 "nbformat_minor": 5
}
